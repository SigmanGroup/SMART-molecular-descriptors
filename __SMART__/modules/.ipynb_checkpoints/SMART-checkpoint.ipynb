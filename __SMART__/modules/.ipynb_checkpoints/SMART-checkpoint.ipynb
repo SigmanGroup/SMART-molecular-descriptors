{
 "cells": [
  {
   "cell_type": "code",
   "execution_count": 1,
   "id": "280f221e-6a6f-437c-ba50-701cd38fc0d0",
   "metadata": {},
   "outputs": [],
   "source": [
    "import sys, os, math\n",
    "import numpy as np\n",
    "from rdkit import Chem, RDLogger\n",
    "from rdkit.Chem import AllChem, rdMolTransforms\n",
    "from rdkit.Chem.Draw import IPythonConsole\n",
    "from rdkit.Geometry import Point3D\n",
    "import py3Dmol\n",
    "import SMART_probe_utils as SMART\n",
    "import SMART_conf_search as SMART_conf\n",
    "#import SMART_descriptors as SMART_des\n",
    "PROBES = os.path.join(os.getcwd(), 'Probes')\n",
    "def draw_mol(m,confId=-1):\n",
    "    mb = Chem.MolToMolBlock(m,confId=confId)\n",
    "    p = py3Dmol.view(width=800,height=800)\n",
    "    p.removeAllModels()\n",
    "    for n in [a.GetId() for a in m.GetConformers()]:\n",
    "        p.addModel(Chem.MolToMolBlock(m,confId=n),'sdf')\n",
    "    #p.addPropertyLabels(\"atom\")\n",
    "    p.setStyle({'stick':{}})\n",
    "    p.setBackgroundColor('white')#'0xeeeeee'\n",
    "    p.zoomTo()\n",
    "    return p.show()\n",
    "\n",
    "RDLogger.DisableLog('rdApp.*')\n",
    "pt = Chem.GetPeriodicTable()"
   ]
  },
  {
   "cell_type": "code",
   "execution_count": 2,
   "id": "a9c08f93-8818-40cb-a891-c4e8479650fb",
   "metadata": {},
   "outputs": [
    {
     "data": {
      "application/3dmoljs_load.v0": "<div id=\"3dmolviewer_17074246627336562\"  style=\"position: relative; width: 800px; height: 800px;\">\n        <p id=\"3dmolwarning_17074246627336562\" style=\"background-color:#ffcccc;color:black\">You appear to be running in JupyterLab (or JavaScript failed to load for some other reason).  You need to install the 3dmol extension: <br>\n        <tt>jupyter labextension install jupyterlab_3dmol</tt></p>\n        </div>\n<script>\n\nvar loadScriptAsync = function(uri){\n  return new Promise((resolve, reject) => {\n    //this is to ignore the existence of requirejs amd\n    var savedexports, savedmodule;\n    if (typeof exports !== 'undefined') savedexports = exports;\n    else exports = {}\n    if (typeof module !== 'undefined') savedmodule = module;\n    else module = {}\n\n    var tag = document.createElement('script');\n    tag.src = uri;\n    tag.async = true;\n    tag.onload = () => {\n        exports = savedexports;\n        module = savedmodule;\n        resolve();\n    };\n  var firstScriptTag = document.getElementsByTagName('script')[0];\n  firstScriptTag.parentNode.insertBefore(tag, firstScriptTag);\n});\n};\n\nif(typeof $3Dmolpromise === 'undefined') {\n$3Dmolpromise = null;\n  $3Dmolpromise = loadScriptAsync('https://cdnjs.cloudflare.com/ajax/libs/3Dmol/2.0.4/3Dmol-min.js');\n}\n\nvar viewer_17074246627336562 = null;\nvar warn = document.getElementById(\"3dmolwarning_17074246627336562\");\nif(warn) {\n    warn.parentNode.removeChild(warn);\n}\n$3Dmolpromise.then(function() {\nviewer_17074246627336562 = $3Dmol.createViewer(document.getElementById(\"3dmolviewer_17074246627336562\"),{backgroundColor:\"white\"});\nviewer_17074246627336562.zoomTo();\n\tviewer_17074246627336562.removeAllModels();\n\tviewer_17074246627336562.addModel(\"syn_R_TS\\n     RDKit          3D\\n\\n134141  0  0  1  0  0  0  0  0999 V2000\\n   -0.0508    0.0049    0.7749 Rh  0  0  0  0  0  3  0  0  0  0  0  0\\n   -0.0008    0.2563   -1.6878 Rh  0  0  0  0  0  3  0  0  0  0  0  0\\n    6.4639    5.8919    2.3150 Cl  0  0  0  0  0  0  0  0  0  0  0  0\\n    6.4828    4.5576    1.2135 C   0  0  0  0  0  0  0  0  0  0  0  0\\n    5.2873    4.0899    0.6550 C   0  0  0  0  0  0  0  0  0  0  0  0\\n    7.6870    3.9102    0.8762 C   0  0  0  0  0  0  0  0  0  0  0  0\\n    3.8711    4.5303    0.8208 C   0  0  0  0  0  0  0  0  0  0  0  0\\n    5.2802    3.0282   -0.2056 C   0  0  0  0  0  0  0  0  0  0  0  0\\n    7.6734    2.8081   -0.0028 C   0  0  0  0  0  0  0  0  0  0  0  0\\n    9.1808    4.4549    1.5623 Cl  0  0  0  0  0  0  0  0  0  0  0  0\\n    3.1207    3.7510   -0.0020 N   0  0  0  0  0  0  0  0  0  0  0  0\\n    3.4153    5.3784    1.5728 O   0  0  0  0  0  0  0  0  0  0  0  0\\n    6.4576    2.3593   -0.5477 C   0  0  0  0  0  0  0  0  0  0  0  0\\n    3.8674    2.7928   -0.6095 C   0  0  0  0  0  0  0  0  0  0  0  0\\n    9.1420    1.9824   -0.4035 Cl  0  0  0  0  0  0  0  0  0  0  0  0\\n    1.6397    3.9844   -0.1984 C   0  0  2  0  0  0  0  0  0  0  0  0\\n    6.3825    0.9835   -1.6015 Cl  0  0  0  0  0  0  0  0  0  0  0  0\\n    3.3928    1.8793   -1.2972 O   0  0  0  0  0  0  0  0  0  0  0  0\\n    0.8460    2.6323   -0.2173 C   0  0  0  0  0  0  0  0  0  0  0  0\\n    1.2868    5.0406   -1.3347 C   0  0  0  0  0  0  0  0  0  0  0  0\\n    1.2782    4.4346    0.7307 H   0  0  0  0  0  0  0  0  0  0  0  0\\n    0.6395    2.0035    0.8741 O   0  0  0  0  0  0  0  0  0  0  0  0\\n    0.6181    2.2127   -1.3813 O   0  0  0  0  0  0  0  0  0  0  0  0\\n    1.8619    6.4304   -0.9655 C   0  0  0  0  0  0  0  0  0  0  0  0\\n    1.8734    4.6738   -2.7230 C   0  0  0  0  0  0  0  0  0  0  0  0\\n   -0.2425    5.2466   -1.4850 C   0  0  0  0  0  0  0  0  0  0  0  0\\n    2.9515    6.4626   -0.9925 H   0  0  0  0  0  0  0  0  0  0  0  0\\n    1.5536    6.7538    0.0311 H   0  0  0  0  0  0  0  0  0  0  0  0\\n    1.5314    7.2098   -1.6563 H   0  0  0  0  0  0  0  0  0  0  0  0\\n    2.9615    4.5977   -2.7047 H   0  0  0  0  0  0  0  0  0  0  0  0\\n    1.6507    5.4559   -3.4540 H   0  0  0  0  0  0  0  0  0  0  0  0\\n    1.4809    3.7531   -3.1453 H   0  0  0  0  0  0  0  0  0  0  0  0\\n   -0.6991    5.5513   -0.5416 H   0  0  0  0  0  0  0  0  0  0  0  0\\n   -0.7747    4.3741   -1.8563 H   0  0  0  0  0  0  0  0  0  0  0  0\\n   -0.4637    6.0500   -2.1930 H   0  0  0  0  0  0  0  0  0  0  0  0\\n    2.0103   -2.9627    1.5012 O   0  0  0  0  0  0  0  0  0  0  0  0\\n    3.2329   -2.8917    1.7196 C   0  0  0  0  0  0  0  0  0  0  0  0\\n    4.1244   -2.2885    0.8851 N   0  0  0  0  0  0  0  0  0  0  0  0\\n    4.0065   -3.2929    2.9311 C   0  0  0  0  0  0  0  0  0  0  0  0\\n    5.3472   -2.1409    1.4564 C   0  0  0  0  0  0  0  0  0  0  0  0\\n    3.8512   -1.7866   -0.5138 C   0  0  2  0  0  0  0  0  0  0  0  0\\n    3.6277   -3.9870    4.0832 C   0  0  0  0  0  0  0  0  0  0  0  0\\n    5.2819   -2.8207    2.7799 C   0  0  0  0  0  0  0  0  0  0  0  0\\n    6.2713   -1.5094    0.9626 O   0  0  0  0  0  0  0  0  0  0  0  0\\n    2.5911   -0.8714   -0.5352 C   0  0  0  0  0  0  0  0  0  0  0  0\\n    3.9518   -2.8912   -1.6433 C   0  0  0  0  0  0  0  0  0  0  0  0\\n    4.6456   -1.0722   -0.7414 H   0  0  0  0  0  0  0  0  0  0  0  0\\n    4.5735   -4.1751    5.1061 C   0  0  0  0  0  0  0  0  0  0  0  0\\n    2.0044   -4.5680    4.2433 Cl  0  0  0  0  0  0  0  0  0  0  0  0\\n    6.2444   -2.9944    3.7808 C   0  0  0  0  0  0  0  0  0  0  0  0\\n    2.0170   -0.4402    0.4724 O   0  0  0  0  0  0  0  0  0  0  0  0\\n    1.9659   -0.5559   -1.6820 O   0  0  0  0  0  0  0  0  0  0  0  0\\n    5.2023   -3.7807   -1.4251 C   0  0  0  0  0  0  0  0  0  0  0  0\\n    4.1266   -2.2484   -3.0436 C   0  0  0  0  0  0  0  0  0  0  0  0\\n    2.7232   -3.8314   -1.6785 C   0  0  0  0  0  0  0  0  0  0  0  0\\n    5.8825   -3.6771    4.9562 C   0  0  0  0  0  0  0  0  0  0  0  0\\n    4.1032   -4.9850    6.5630 Cl  0  0  0  0  0  0  0  0  0  0  0  0\\n    7.8346   -2.3413    3.5817 Cl  0  0  0  0  0  0  0  0  0  0  0  0\\n    6.1187   -3.1890   -1.3647 H   0  0  0  0  0  0  0  0  0  0  0  0\\n    5.3504   -4.4898   -2.2431 H   0  0  0  0  0  0  0  0  0  0  0  0\\n    5.1444   -4.3841   -0.5185 H   0  0  0  0  0  0  0  0  0  0  0  0\\n    4.9421   -1.5214   -3.0545 H   0  0  0  0  0  0  0  0  0  0  0  0\\n    3.2365   -1.7594   -3.4294 H   0  0  0  0  0  0  0  0  0  0  0  0\\n    4.3901   -2.9996   -3.7932 H   0  0  0  0  0  0  0  0  0  0  0  0\\n    1.7998   -3.3174   -1.9238 H   0  0  0  0  0  0  0  0  0  0  0  0\\n    2.5842   -4.3683   -0.7392 H   0  0  0  0  0  0  0  0  0  0  0  0\\n    2.8527   -4.6038   -2.4419 H   0  0  0  0  0  0  0  0  0  0  0  0\\n    7.0389   -3.8760    6.2298 Cl  0  0  0  0  0  0  0  0  0  0  0  0\\n   -0.5976   -1.7152   -1.8346 O   0  0  0  0  0  0  0  0  0  0  0  0\\n   -0.8136   -2.3678   -0.7783 C   0  0  0  0  0  0  0  0  0  0  0  0\\n   -0.6905   -1.9458    0.4177 O   0  0  0  0  0  0  0  0  0  0  0  0\\n   -1.4754   -3.7966   -0.8177 C   0  0  1  0  0  0  0  0  0  0  0  0\\n   -2.5869   -3.9462    0.1984 N   0  0  0  0  0  0  0  0  0  0  0  0\\n   -1.8575   -4.3461   -2.2615 C   0  0  0  0  0  0  0  0  0  0  0  0\\n   -0.6601   -4.4381   -0.4724 H   0  0  0  0  0  0  0  0  0  0  0  0\\n   -2.7225   -5.0572    0.9672 C   0  0  0  0  0  0  0  0  0  0  0  0\\n   -3.5588   -3.0325    0.4464 C   0  0  0  0  0  0  0  0  0  0  0  0\\n   -2.9267   -3.4786   -2.9760 C   0  0  0  0  0  0  0  0  0  0  0  0\\n   -0.6112   -4.4660   -3.1779 C   0  0  0  0  0  0  0  0  0  0  0  0\\n   -2.4408   -5.7801   -2.1747 C   0  0  0  0  0  0  0  0  0  0  0  0\\n   -1.9064   -5.9664    1.0164 O   0  0  0  0  0  0  0  0  0  0  0  0\\n   -3.9923   -4.8915    1.7319 C   0  0  0  0  0  0  0  0  0  0  0  0\\n   -3.5580   -1.8864   -0.0192 O   0  0  0  0  0  0  0  0  0  0  0  0\\n   -4.4957   -3.6599    1.4163 C   0  0  0  0  0  0  0  0  0  0  0  0\\n   -3.1909   -3.9125   -3.9443 H   0  0  0  0  0  0  0  0  0  0  0  0\\n   -2.6096   -2.4604   -3.1833 H   0  0  0  0  0  0  0  0  0  0  0  0\\n   -3.8608   -3.4302   -2.4144 H   0  0  0  0  0  0  0  0  0  0  0  0\\n    0.1730   -5.0664   -2.7124 H   0  0  0  0  0  0  0  0  0  0  0  0\\n   -0.1795   -3.5166   -3.4821 H   0  0  0  0  0  0  0  0  0  0  0  0\\n   -0.8587   -4.9783   -4.1117 H   0  0  0  0  0  0  0  0  0  0  0  0\\n   -1.7726   -6.4660   -1.6499 H   0  0  0  0  0  0  0  0  0  0  0  0\\n   -2.6095   -6.2161   -3.1624 H   0  0  0  0  0  0  0  0  0  0  0  0\\n   -3.4084   -5.8187   -1.6733 H   0  0  0  0  0  0  0  0  0  0  0  0\\n   -4.6453   -5.7249    2.6467 C   0  0  0  0  0  0  0  0  0  0  0  0\\n   -5.6721   -3.1834    1.9973 C   0  0  0  0  0  0  0  0  0  0  0  0\\n   -5.8384   -5.2731    3.2418 C   0  0  0  0  0  0  0  0  0  0  0  0\\n   -3.9683   -7.2632    3.0583 Cl  0  0  0  0  0  0  0  0  0  0  0  0\\n   -6.3506   -4.0004    2.9182 C   0  0  0  0  0  0  0  0  0  0  0  0\\n   -6.2300   -1.5887    1.6113 Cl  0  0  0  0  0  0  0  0  0  0  0  0\\n   -6.6532   -6.2673    4.4021 Cl  0  0  0  0  0  0  0  0  0  0  0  0\\n   -7.7900   -3.4124    3.6803 Cl  0  0  0  0  0  0  0  0  0  0  0  0\\n   -2.0661    0.6371    0.6845 O   0  0  0  0  0  0  0  0  0  0  0  0\\n   -2.5798    0.8668   -0.4608 C   0  0  0  0  0  0  0  0  0  0  0  0\\n   -1.9769    0.8539   -1.5677 O   0  0  0  0  0  0  0  0  0  0  0  0\\n   -4.0343    1.4527   -0.3249 C   0  0  1  0  0  0  0  0  0  0  0  0\\n   -4.1213    2.5206    0.7466 N   0  0  0  0  0  0  0  0  0  0  0  0\\n   -4.7507    1.8366   -1.6901 C   0  0  0  0  0  0  0  0  0  0  0  0\\n   -4.5902    0.5949    0.0640 H   0  0  0  0  0  0  0  0  0  0  0  0\\n   -3.1809    3.4666    1.0060 C   0  0  0  0  0  0  0  0  0  0  0  0\\n   -5.1735    2.6027    1.6035 C   0  0  0  0  0  0  0  0  0  0  0  0\\n   -4.0645    3.0242   -2.4133 C   0  0  0  0  0  0  0  0  0  0  0  0\\n   -4.8230    0.6211   -2.6544 C   0  0  0  0  0  0  0  0  0  0  0  0\\n   -6.2219    2.2578   -1.4485 C   0  0  0  0  0  0  0  0  0  0  0  0\\n   -2.0627    3.5008    0.4700 O   0  0  0  0  0  0  0  0  0  0  0  0\\n   -3.7132    4.3062    2.1134 C   0  0  0  0  0  0  0  0  0  0  0  0\\n   -6.0984    1.8054    1.6480 O   0  0  0  0  0  0  0  0  0  0  0  0\\n   -4.9260    3.7889    2.4728 C   0  0  0  0  0  0  0  0  0  0  0  0\\n   -4.0498    3.9246   -1.7973 H   0  0  0  0  0  0  0  0  0  0  0  0\\n   -4.6146    3.2951   -3.3184 H   0  0  0  0  0  0  0  0  0  0  0  0\\n   -3.0454    2.8232   -2.7320 H   0  0  0  0  0  0  0  0  0  0  0  0\\n   -5.2492   -0.2561   -2.1627 H   0  0  0  0  0  0  0  0  0  0  0  0\\n   -3.8697    0.3351   -3.0903 H   0  0  0  0  0  0  0  0  0  0  0  0\\n   -5.4746    0.8324   -3.5067 H   0  0  0  0  0  0  0  0  0  0  0  0\\n   -6.3137    3.1893   -0.8893 H   0  0  0  0  0  0  0  0  0  0  0  0\\n   -6.7849    1.4945   -0.9071 H   0  0  0  0  0  0  0  0  0  0  0  0\\n   -6.7609    2.4275   -2.3836 H   0  0  0  0  0  0  0  0  0  0  0  0\\n   -3.1540    5.3899    2.7938 C   0  0  0  0  0  0  0  0  0  0  0  0\\n   -5.6694    4.3499    3.5179 C   0  0  0  0  0  0  0  0  0  0  0  0\\n   -3.8795    5.9757    3.8458 C   0  0  0  0  0  0  0  0  0  0  0  0\\n   -1.5651    5.9395    2.3661 Cl  0  0  0  0  0  0  0  0  0  0  0  0\\n   -5.1405    5.4588    4.2052 C   0  0  0  0  0  0  0  0  0  0  0  0\\n   -7.1908    3.6615    3.9722 Cl  0  0  0  0  0  0  0  0  0  0  0  0\\n   -3.1946    7.3086    4.7140 Cl  0  0  0  0  0  0  0  0  0  0  0  0\\n   -6.0247    6.1625    5.5179 Cl  0  0  0  0  0  0  0  0  0  0  0  0\\n  1 71  1  0\\n  1  2  1  0\\n  1102  1  0\\n  2 52  1  0\\n  2 23  1  0\\n  3  4  1  0\\n  4  6  2  0\\n  4  5  1  0\\n  5  7  1  0\\n  5  8  2  0\\n  6 10  1  0\\n  6  9  1  0\\n  7 11  1  0\\n  7 12  2  0\\n  8 13  1  0\\n  8 14  1  0\\n  9 15  1  0\\n  9 13  2  0\\n 11 14  1  0\\n 11 16  1  0\\n 13 17  1  0\\n 14 18  2  0\\n 16 21  1  1\\n 16 19  1  0\\n 16 20  1  0\\n 19 22  2  0\\n 19 23  1  0\\n 20 24  1  0\\n 20 25  1  0\\n 20 26  1  0\\n 24 28  1  0\\n 24 27  1  0\\n 24 29  1  0\\n 25 32  1  0\\n 25 30  1  0\\n 25 31  1  0\\n 26 33  1  0\\n 26 34  1  0\\n 26 35  1  0\\n 36 37  2  0\\n 37 39  1  0\\n 37 38  1  0\\n 38 40  1  0\\n 38 41  1  0\\n 39 42  2  0\\n 39 43  1  0\\n 40 43  1  0\\n 40 44  2  0\\n 41 47  1  6\\n 41 45  1  0\\n 41 46  1  0\\n 42 49  1  0\\n 42 48  1  0\\n 43 50  2  0\\n 45 51  2  0\\n 45 52  1  0\\n 46 55  1  0\\n 46 53  1  0\\n 46 54  1  0\\n 48 57  1  0\\n 48 56  2  0\\n 50 56  1  0\\n 50 58  1  0\\n 53 61  1  0\\n 53 59  1  0\\n 53 60  1  0\\n 54 63  1  0\\n 54 62  1  0\\n 54 64  1  0\\n 55 66  1  0\\n 55 65  1  0\\n 55 67  1  0\\n 56 68  1  0\\n 69 70  2  0\\n 70 72  1  0\\n 70 71  1  0\\n 72 73  1  0\\n 72 75  1  1\\n 72 74  1  0\\n 73 76  1  0\\n 73 77  1  0\\n 74 80  1  0\\n 74 78  1  0\\n 74 79  1  0\\n 76 82  1  0\\n 76 81  2  0\\n 77 84  1  0\\n 77 83  2  0\\n 78 87  1  0\\n 78 85  1  0\\n 78 86  1  0\\n 79 88  1  0\\n 79 89  1  0\\n 79 90  1  0\\n 80 93  1  0\\n 80 91  1  0\\n 80 92  1  0\\n 82 94  1  0\\n 82 84  2  0\\n 84 95  1  0\\n 94 97  1  0\\n 94 96  2  0\\n 95 98  2  0\\n 95 99  1  0\\n 96100  1  0\\n 96 98  1  0\\n 98101  1  0\\n102103  1  0\\n103105  1  0\\n103104  2  0\\n105108  1  1\\n105106  1  0\\n105107  1  0\\n106110  1  0\\n106109  1  0\\n107111  1  0\\n107112  1  0\\n107113  1  0\\n109114  2  0\\n109115  1  0\\n110117  1  0\\n110116  2  0\\n111118  1  0\\n111119  1  0\\n111120  1  0\\n112121  1  0\\n112122  1  0\\n112123  1  0\\n113124  1  0\\n113125  1  0\\n113126  1  0\\n115127  1  0\\n115117  2  0\\n117128  1  0\\n127130  1  0\\n127129  2  0\\n128131  2  0\\n128132  1  0\\n129133  1  0\\n129131  1  0\\n131134  1  0\\nM  CHG  2   1   2   2   2\\nM  END\\n\",\"sdf\");\n\tviewer_17074246627336562.setStyle({\"stick\": {}});\n\tviewer_17074246627336562.setBackgroundColor(\"white\");\n\tviewer_17074246627336562.zoomTo();\nviewer_17074246627336562.render();\n});\n</script>",
      "text/html": [
       "<div id=\"3dmolviewer_17074246627336562\"  style=\"position: relative; width: 800px; height: 800px;\">\n",
       "        <p id=\"3dmolwarning_17074246627336562\" style=\"background-color:#ffcccc;color:black\">You appear to be running in JupyterLab (or JavaScript failed to load for some other reason).  You need to install the 3dmol extension: <br>\n",
       "        <tt>jupyter labextension install jupyterlab_3dmol</tt></p>\n",
       "        </div>\n",
       "<script>\n",
       "\n",
       "var loadScriptAsync = function(uri){\n",
       "  return new Promise((resolve, reject) => {\n",
       "    //this is to ignore the existence of requirejs amd\n",
       "    var savedexports, savedmodule;\n",
       "    if (typeof exports !== 'undefined') savedexports = exports;\n",
       "    else exports = {}\n",
       "    if (typeof module !== 'undefined') savedmodule = module;\n",
       "    else module = {}\n",
       "\n",
       "    var tag = document.createElement('script');\n",
       "    tag.src = uri;\n",
       "    tag.async = true;\n",
       "    tag.onload = () => {\n",
       "        exports = savedexports;\n",
       "        module = savedmodule;\n",
       "        resolve();\n",
       "    };\n",
       "  var firstScriptTag = document.getElementsByTagName('script')[0];\n",
       "  firstScriptTag.parentNode.insertBefore(tag, firstScriptTag);\n",
       "});\n",
       "};\n",
       "\n",
       "if(typeof $3Dmolpromise === 'undefined') {\n",
       "$3Dmolpromise = null;\n",
       "  $3Dmolpromise = loadScriptAsync('https://cdnjs.cloudflare.com/ajax/libs/3Dmol/2.0.4/3Dmol-min.js');\n",
       "}\n",
       "\n",
       "var viewer_17074246627336562 = null;\n",
       "var warn = document.getElementById(\"3dmolwarning_17074246627336562\");\n",
       "if(warn) {\n",
       "    warn.parentNode.removeChild(warn);\n",
       "}\n",
       "$3Dmolpromise.then(function() {\n",
       "viewer_17074246627336562 = $3Dmol.createViewer(document.getElementById(\"3dmolviewer_17074246627336562\"),{backgroundColor:\"white\"});\n",
       "viewer_17074246627336562.zoomTo();\n",
       "\tviewer_17074246627336562.removeAllModels();\n",
       "\tviewer_17074246627336562.addModel(\"syn_R_TS\\n     RDKit          3D\\n\\n134141  0  0  1  0  0  0  0  0999 V2000\\n   -0.0508    0.0049    0.7749 Rh  0  0  0  0  0  3  0  0  0  0  0  0\\n   -0.0008    0.2563   -1.6878 Rh  0  0  0  0  0  3  0  0  0  0  0  0\\n    6.4639    5.8919    2.3150 Cl  0  0  0  0  0  0  0  0  0  0  0  0\\n    6.4828    4.5576    1.2135 C   0  0  0  0  0  0  0  0  0  0  0  0\\n    5.2873    4.0899    0.6550 C   0  0  0  0  0  0  0  0  0  0  0  0\\n    7.6870    3.9102    0.8762 C   0  0  0  0  0  0  0  0  0  0  0  0\\n    3.8711    4.5303    0.8208 C   0  0  0  0  0  0  0  0  0  0  0  0\\n    5.2802    3.0282   -0.2056 C   0  0  0  0  0  0  0  0  0  0  0  0\\n    7.6734    2.8081   -0.0028 C   0  0  0  0  0  0  0  0  0  0  0  0\\n    9.1808    4.4549    1.5623 Cl  0  0  0  0  0  0  0  0  0  0  0  0\\n    3.1207    3.7510   -0.0020 N   0  0  0  0  0  0  0  0  0  0  0  0\\n    3.4153    5.3784    1.5728 O   0  0  0  0  0  0  0  0  0  0  0  0\\n    6.4576    2.3593   -0.5477 C   0  0  0  0  0  0  0  0  0  0  0  0\\n    3.8674    2.7928   -0.6095 C   0  0  0  0  0  0  0  0  0  0  0  0\\n    9.1420    1.9824   -0.4035 Cl  0  0  0  0  0  0  0  0  0  0  0  0\\n    1.6397    3.9844   -0.1984 C   0  0  2  0  0  0  0  0  0  0  0  0\\n    6.3825    0.9835   -1.6015 Cl  0  0  0  0  0  0  0  0  0  0  0  0\\n    3.3928    1.8793   -1.2972 O   0  0  0  0  0  0  0  0  0  0  0  0\\n    0.8460    2.6323   -0.2173 C   0  0  0  0  0  0  0  0  0  0  0  0\\n    1.2868    5.0406   -1.3347 C   0  0  0  0  0  0  0  0  0  0  0  0\\n    1.2782    4.4346    0.7307 H   0  0  0  0  0  0  0  0  0  0  0  0\\n    0.6395    2.0035    0.8741 O   0  0  0  0  0  0  0  0  0  0  0  0\\n    0.6181    2.2127   -1.3813 O   0  0  0  0  0  0  0  0  0  0  0  0\\n    1.8619    6.4304   -0.9655 C   0  0  0  0  0  0  0  0  0  0  0  0\\n    1.8734    4.6738   -2.7230 C   0  0  0  0  0  0  0  0  0  0  0  0\\n   -0.2425    5.2466   -1.4850 C   0  0  0  0  0  0  0  0  0  0  0  0\\n    2.9515    6.4626   -0.9925 H   0  0  0  0  0  0  0  0  0  0  0  0\\n    1.5536    6.7538    0.0311 H   0  0  0  0  0  0  0  0  0  0  0  0\\n    1.5314    7.2098   -1.6563 H   0  0  0  0  0  0  0  0  0  0  0  0\\n    2.9615    4.5977   -2.7047 H   0  0  0  0  0  0  0  0  0  0  0  0\\n    1.6507    5.4559   -3.4540 H   0  0  0  0  0  0  0  0  0  0  0  0\\n    1.4809    3.7531   -3.1453 H   0  0  0  0  0  0  0  0  0  0  0  0\\n   -0.6991    5.5513   -0.5416 H   0  0  0  0  0  0  0  0  0  0  0  0\\n   -0.7747    4.3741   -1.8563 H   0  0  0  0  0  0  0  0  0  0  0  0\\n   -0.4637    6.0500   -2.1930 H   0  0  0  0  0  0  0  0  0  0  0  0\\n    2.0103   -2.9627    1.5012 O   0  0  0  0  0  0  0  0  0  0  0  0\\n    3.2329   -2.8917    1.7196 C   0  0  0  0  0  0  0  0  0  0  0  0\\n    4.1244   -2.2885    0.8851 N   0  0  0  0  0  0  0  0  0  0  0  0\\n    4.0065   -3.2929    2.9311 C   0  0  0  0  0  0  0  0  0  0  0  0\\n    5.3472   -2.1409    1.4564 C   0  0  0  0  0  0  0  0  0  0  0  0\\n    3.8512   -1.7866   -0.5138 C   0  0  2  0  0  0  0  0  0  0  0  0\\n    3.6277   -3.9870    4.0832 C   0  0  0  0  0  0  0  0  0  0  0  0\\n    5.2819   -2.8207    2.7799 C   0  0  0  0  0  0  0  0  0  0  0  0\\n    6.2713   -1.5094    0.9626 O   0  0  0  0  0  0  0  0  0  0  0  0\\n    2.5911   -0.8714   -0.5352 C   0  0  0  0  0  0  0  0  0  0  0  0\\n    3.9518   -2.8912   -1.6433 C   0  0  0  0  0  0  0  0  0  0  0  0\\n    4.6456   -1.0722   -0.7414 H   0  0  0  0  0  0  0  0  0  0  0  0\\n    4.5735   -4.1751    5.1061 C   0  0  0  0  0  0  0  0  0  0  0  0\\n    2.0044   -4.5680    4.2433 Cl  0  0  0  0  0  0  0  0  0  0  0  0\\n    6.2444   -2.9944    3.7808 C   0  0  0  0  0  0  0  0  0  0  0  0\\n    2.0170   -0.4402    0.4724 O   0  0  0  0  0  0  0  0  0  0  0  0\\n    1.9659   -0.5559   -1.6820 O   0  0  0  0  0  0  0  0  0  0  0  0\\n    5.2023   -3.7807   -1.4251 C   0  0  0  0  0  0  0  0  0  0  0  0\\n    4.1266   -2.2484   -3.0436 C   0  0  0  0  0  0  0  0  0  0  0  0\\n    2.7232   -3.8314   -1.6785 C   0  0  0  0  0  0  0  0  0  0  0  0\\n    5.8825   -3.6771    4.9562 C   0  0  0  0  0  0  0  0  0  0  0  0\\n    4.1032   -4.9850    6.5630 Cl  0  0  0  0  0  0  0  0  0  0  0  0\\n    7.8346   -2.3413    3.5817 Cl  0  0  0  0  0  0  0  0  0  0  0  0\\n    6.1187   -3.1890   -1.3647 H   0  0  0  0  0  0  0  0  0  0  0  0\\n    5.3504   -4.4898   -2.2431 H   0  0  0  0  0  0  0  0  0  0  0  0\\n    5.1444   -4.3841   -0.5185 H   0  0  0  0  0  0  0  0  0  0  0  0\\n    4.9421   -1.5214   -3.0545 H   0  0  0  0  0  0  0  0  0  0  0  0\\n    3.2365   -1.7594   -3.4294 H   0  0  0  0  0  0  0  0  0  0  0  0\\n    4.3901   -2.9996   -3.7932 H   0  0  0  0  0  0  0  0  0  0  0  0\\n    1.7998   -3.3174   -1.9238 H   0  0  0  0  0  0  0  0  0  0  0  0\\n    2.5842   -4.3683   -0.7392 H   0  0  0  0  0  0  0  0  0  0  0  0\\n    2.8527   -4.6038   -2.4419 H   0  0  0  0  0  0  0  0  0  0  0  0\\n    7.0389   -3.8760    6.2298 Cl  0  0  0  0  0  0  0  0  0  0  0  0\\n   -0.5976   -1.7152   -1.8346 O   0  0  0  0  0  0  0  0  0  0  0  0\\n   -0.8136   -2.3678   -0.7783 C   0  0  0  0  0  0  0  0  0  0  0  0\\n   -0.6905   -1.9458    0.4177 O   0  0  0  0  0  0  0  0  0  0  0  0\\n   -1.4754   -3.7966   -0.8177 C   0  0  1  0  0  0  0  0  0  0  0  0\\n   -2.5869   -3.9462    0.1984 N   0  0  0  0  0  0  0  0  0  0  0  0\\n   -1.8575   -4.3461   -2.2615 C   0  0  0  0  0  0  0  0  0  0  0  0\\n   -0.6601   -4.4381   -0.4724 H   0  0  0  0  0  0  0  0  0  0  0  0\\n   -2.7225   -5.0572    0.9672 C   0  0  0  0  0  0  0  0  0  0  0  0\\n   -3.5588   -3.0325    0.4464 C   0  0  0  0  0  0  0  0  0  0  0  0\\n   -2.9267   -3.4786   -2.9760 C   0  0  0  0  0  0  0  0  0  0  0  0\\n   -0.6112   -4.4660   -3.1779 C   0  0  0  0  0  0  0  0  0  0  0  0\\n   -2.4408   -5.7801   -2.1747 C   0  0  0  0  0  0  0  0  0  0  0  0\\n   -1.9064   -5.9664    1.0164 O   0  0  0  0  0  0  0  0  0  0  0  0\\n   -3.9923   -4.8915    1.7319 C   0  0  0  0  0  0  0  0  0  0  0  0\\n   -3.5580   -1.8864   -0.0192 O   0  0  0  0  0  0  0  0  0  0  0  0\\n   -4.4957   -3.6599    1.4163 C   0  0  0  0  0  0  0  0  0  0  0  0\\n   -3.1909   -3.9125   -3.9443 H   0  0  0  0  0  0  0  0  0  0  0  0\\n   -2.6096   -2.4604   -3.1833 H   0  0  0  0  0  0  0  0  0  0  0  0\\n   -3.8608   -3.4302   -2.4144 H   0  0  0  0  0  0  0  0  0  0  0  0\\n    0.1730   -5.0664   -2.7124 H   0  0  0  0  0  0  0  0  0  0  0  0\\n   -0.1795   -3.5166   -3.4821 H   0  0  0  0  0  0  0  0  0  0  0  0\\n   -0.8587   -4.9783   -4.1117 H   0  0  0  0  0  0  0  0  0  0  0  0\\n   -1.7726   -6.4660   -1.6499 H   0  0  0  0  0  0  0  0  0  0  0  0\\n   -2.6095   -6.2161   -3.1624 H   0  0  0  0  0  0  0  0  0  0  0  0\\n   -3.4084   -5.8187   -1.6733 H   0  0  0  0  0  0  0  0  0  0  0  0\\n   -4.6453   -5.7249    2.6467 C   0  0  0  0  0  0  0  0  0  0  0  0\\n   -5.6721   -3.1834    1.9973 C   0  0  0  0  0  0  0  0  0  0  0  0\\n   -5.8384   -5.2731    3.2418 C   0  0  0  0  0  0  0  0  0  0  0  0\\n   -3.9683   -7.2632    3.0583 Cl  0  0  0  0  0  0  0  0  0  0  0  0\\n   -6.3506   -4.0004    2.9182 C   0  0  0  0  0  0  0  0  0  0  0  0\\n   -6.2300   -1.5887    1.6113 Cl  0  0  0  0  0  0  0  0  0  0  0  0\\n   -6.6532   -6.2673    4.4021 Cl  0  0  0  0  0  0  0  0  0  0  0  0\\n   -7.7900   -3.4124    3.6803 Cl  0  0  0  0  0  0  0  0  0  0  0  0\\n   -2.0661    0.6371    0.6845 O   0  0  0  0  0  0  0  0  0  0  0  0\\n   -2.5798    0.8668   -0.4608 C   0  0  0  0  0  0  0  0  0  0  0  0\\n   -1.9769    0.8539   -1.5677 O   0  0  0  0  0  0  0  0  0  0  0  0\\n   -4.0343    1.4527   -0.3249 C   0  0  1  0  0  0  0  0  0  0  0  0\\n   -4.1213    2.5206    0.7466 N   0  0  0  0  0  0  0  0  0  0  0  0\\n   -4.7507    1.8366   -1.6901 C   0  0  0  0  0  0  0  0  0  0  0  0\\n   -4.5902    0.5949    0.0640 H   0  0  0  0  0  0  0  0  0  0  0  0\\n   -3.1809    3.4666    1.0060 C   0  0  0  0  0  0  0  0  0  0  0  0\\n   -5.1735    2.6027    1.6035 C   0  0  0  0  0  0  0  0  0  0  0  0\\n   -4.0645    3.0242   -2.4133 C   0  0  0  0  0  0  0  0  0  0  0  0\\n   -4.8230    0.6211   -2.6544 C   0  0  0  0  0  0  0  0  0  0  0  0\\n   -6.2219    2.2578   -1.4485 C   0  0  0  0  0  0  0  0  0  0  0  0\\n   -2.0627    3.5008    0.4700 O   0  0  0  0  0  0  0  0  0  0  0  0\\n   -3.7132    4.3062    2.1134 C   0  0  0  0  0  0  0  0  0  0  0  0\\n   -6.0984    1.8054    1.6480 O   0  0  0  0  0  0  0  0  0  0  0  0\\n   -4.9260    3.7889    2.4728 C   0  0  0  0  0  0  0  0  0  0  0  0\\n   -4.0498    3.9246   -1.7973 H   0  0  0  0  0  0  0  0  0  0  0  0\\n   -4.6146    3.2951   -3.3184 H   0  0  0  0  0  0  0  0  0  0  0  0\\n   -3.0454    2.8232   -2.7320 H   0  0  0  0  0  0  0  0  0  0  0  0\\n   -5.2492   -0.2561   -2.1627 H   0  0  0  0  0  0  0  0  0  0  0  0\\n   -3.8697    0.3351   -3.0903 H   0  0  0  0  0  0  0  0  0  0  0  0\\n   -5.4746    0.8324   -3.5067 H   0  0  0  0  0  0  0  0  0  0  0  0\\n   -6.3137    3.1893   -0.8893 H   0  0  0  0  0  0  0  0  0  0  0  0\\n   -6.7849    1.4945   -0.9071 H   0  0  0  0  0  0  0  0  0  0  0  0\\n   -6.7609    2.4275   -2.3836 H   0  0  0  0  0  0  0  0  0  0  0  0\\n   -3.1540    5.3899    2.7938 C   0  0  0  0  0  0  0  0  0  0  0  0\\n   -5.6694    4.3499    3.5179 C   0  0  0  0  0  0  0  0  0  0  0  0\\n   -3.8795    5.9757    3.8458 C   0  0  0  0  0  0  0  0  0  0  0  0\\n   -1.5651    5.9395    2.3661 Cl  0  0  0  0  0  0  0  0  0  0  0  0\\n   -5.1405    5.4588    4.2052 C   0  0  0  0  0  0  0  0  0  0  0  0\\n   -7.1908    3.6615    3.9722 Cl  0  0  0  0  0  0  0  0  0  0  0  0\\n   -3.1946    7.3086    4.7140 Cl  0  0  0  0  0  0  0  0  0  0  0  0\\n   -6.0247    6.1625    5.5179 Cl  0  0  0  0  0  0  0  0  0  0  0  0\\n  1 71  1  0\\n  1  2  1  0\\n  1102  1  0\\n  2 52  1  0\\n  2 23  1  0\\n  3  4  1  0\\n  4  6  2  0\\n  4  5  1  0\\n  5  7  1  0\\n  5  8  2  0\\n  6 10  1  0\\n  6  9  1  0\\n  7 11  1  0\\n  7 12  2  0\\n  8 13  1  0\\n  8 14  1  0\\n  9 15  1  0\\n  9 13  2  0\\n 11 14  1  0\\n 11 16  1  0\\n 13 17  1  0\\n 14 18  2  0\\n 16 21  1  1\\n 16 19  1  0\\n 16 20  1  0\\n 19 22  2  0\\n 19 23  1  0\\n 20 24  1  0\\n 20 25  1  0\\n 20 26  1  0\\n 24 28  1  0\\n 24 27  1  0\\n 24 29  1  0\\n 25 32  1  0\\n 25 30  1  0\\n 25 31  1  0\\n 26 33  1  0\\n 26 34  1  0\\n 26 35  1  0\\n 36 37  2  0\\n 37 39  1  0\\n 37 38  1  0\\n 38 40  1  0\\n 38 41  1  0\\n 39 42  2  0\\n 39 43  1  0\\n 40 43  1  0\\n 40 44  2  0\\n 41 47  1  6\\n 41 45  1  0\\n 41 46  1  0\\n 42 49  1  0\\n 42 48  1  0\\n 43 50  2  0\\n 45 51  2  0\\n 45 52  1  0\\n 46 55  1  0\\n 46 53  1  0\\n 46 54  1  0\\n 48 57  1  0\\n 48 56  2  0\\n 50 56  1  0\\n 50 58  1  0\\n 53 61  1  0\\n 53 59  1  0\\n 53 60  1  0\\n 54 63  1  0\\n 54 62  1  0\\n 54 64  1  0\\n 55 66  1  0\\n 55 65  1  0\\n 55 67  1  0\\n 56 68  1  0\\n 69 70  2  0\\n 70 72  1  0\\n 70 71  1  0\\n 72 73  1  0\\n 72 75  1  1\\n 72 74  1  0\\n 73 76  1  0\\n 73 77  1  0\\n 74 80  1  0\\n 74 78  1  0\\n 74 79  1  0\\n 76 82  1  0\\n 76 81  2  0\\n 77 84  1  0\\n 77 83  2  0\\n 78 87  1  0\\n 78 85  1  0\\n 78 86  1  0\\n 79 88  1  0\\n 79 89  1  0\\n 79 90  1  0\\n 80 93  1  0\\n 80 91  1  0\\n 80 92  1  0\\n 82 94  1  0\\n 82 84  2  0\\n 84 95  1  0\\n 94 97  1  0\\n 94 96  2  0\\n 95 98  2  0\\n 95 99  1  0\\n 96100  1  0\\n 96 98  1  0\\n 98101  1  0\\n102103  1  0\\n103105  1  0\\n103104  2  0\\n105108  1  1\\n105106  1  0\\n105107  1  0\\n106110  1  0\\n106109  1  0\\n107111  1  0\\n107112  1  0\\n107113  1  0\\n109114  2  0\\n109115  1  0\\n110117  1  0\\n110116  2  0\\n111118  1  0\\n111119  1  0\\n111120  1  0\\n112121  1  0\\n112122  1  0\\n112123  1  0\\n113124  1  0\\n113125  1  0\\n113126  1  0\\n115127  1  0\\n115117  2  0\\n117128  1  0\\n127130  1  0\\n127129  2  0\\n128131  2  0\\n128132  1  0\\n129133  1  0\\n129131  1  0\\n131134  1  0\\nM  CHG  2   1   2   2   2\\nM  END\\n\",\"sdf\");\n",
       "\tviewer_17074246627336562.setStyle({\"stick\": {}});\n",
       "\tviewer_17074246627336562.setBackgroundColor(\"white\");\n",
       "\tviewer_17074246627336562.zoomTo();\n",
       "viewer_17074246627336562.render();\n",
       "});\n",
       "</script>"
      ]
     },
     "metadata": {},
     "output_type": "display_data"
    }
   ],
   "source": [
    "structure = 'R-TCPTTL_1.sdf'\n",
    "probe = '/Users/rebecca/Documents/__SMART__/Probes/S_SiF2_8_acyclic.mol2'\n",
    "metal_id = 1\n",
    "binding_atoms = [2, 22, 51, 71, 102]\n",
    "geometry = 'octahedral'\n",
    "\n",
    "prb = Chem.MolFromMol2File(probe)\n",
    "\n",
    "supp = Chem.SDMolSupplier(structure, removeHs = False)\n",
    "mol = False\n",
    "for mol in supp:\n",
    "    rdMolTransforms.CanonicalizeConformer(mol.GetConformer(), ignoreHs=False)\n",
    "draw_mol(mol)"
   ]
  },
  {
   "cell_type": "code",
   "execution_count": 3,
   "id": "024187a8-19db-4bbb-9ee7-a9ba2cadaa4c",
   "metadata": {},
   "outputs": [
    {
     "ename": "UnboundLocalError",
     "evalue": "local variable 'file' referenced before assignment",
     "output_type": "error",
     "traceback": [
      "\u001b[0;31m---------------------------------------------------------------------------\u001b[0m",
      "\u001b[0;31mNameError\u001b[0m                                 Traceback (most recent call last)",
      "File \u001b[0;32m~/Desktop/SMART-molecular-descriptors/__SMART__/examples/SMART_probe_utils.py:57\u001b[0m, in \u001b[0;36mReadFile.__init__\u001b[0;34m(self, ext, fname, path)\u001b[0m\n\u001b[1;32m     56\u001b[0m \u001b[38;5;28mself\u001b[39m\u001b[38;5;241m.\u001b[39mTYPE \u001b[38;5;241m=\u001b[39m ext\n\u001b[0;32m---> 57\u001b[0m \u001b[38;5;28mself\u001b[39m\u001b[38;5;241m.\u001b[39mTIP_N \u001b[38;5;241m=\u001b[39m \u001b[43mtip\u001b[49m\n\u001b[1;32m     58\u001b[0m file \u001b[38;5;241m=\u001b[39m os\u001b[38;5;241m.\u001b[39mpath\u001b[38;5;241m.\u001b[39mjoin(path, fname\u001b[38;5;241m+\u001b[39m\u001b[38;5;124m'\u001b[39m\u001b[38;5;124m.\u001b[39m\u001b[38;5;124m'\u001b[39m\u001b[38;5;241m+\u001b[39mext)\n",
      "\u001b[0;31mNameError\u001b[0m: name 'tip' is not defined",
      "\nDuring handling of the above exception, another exception occurred:\n",
      "\u001b[0;31mUnboundLocalError\u001b[0m                         Traceback (most recent call last)",
      "Cell \u001b[0;32mIn[3], line 1\u001b[0m\n\u001b[0;32m----> 1\u001b[0m structure \u001b[38;5;241m=\u001b[39m \u001b[43mSMART\u001b[49m\u001b[38;5;241;43m.\u001b[39;49m\u001b[43mReadFile\u001b[49m\u001b[43m(\u001b[49m\u001b[38;5;124;43m'\u001b[39;49m\u001b[38;5;124;43mmol2\u001b[39;49m\u001b[38;5;124;43m'\u001b[39;49m\u001b[43m,\u001b[49m\u001b[43m \u001b[49m\u001b[38;5;124;43m'\u001b[39;49m\u001b[38;5;124;43mR-TCPTTL_1\u001b[39;49m\u001b[38;5;124;43m'\u001b[39;49m\u001b[43m)\u001b[49m\n\u001b[1;32m      2\u001b[0m structure\u001b[38;5;241m.\u001b[39mReference_Vector(tip\u001b[38;5;241m=\u001b[39m\u001b[38;5;241m0\u001b[39m, tail\u001b[38;5;241m=\u001b[39m\u001b[38;5;241m1\u001b[39m)\n\u001b[1;32m      3\u001b[0m probe \u001b[38;5;241m=\u001b[39m SMART\u001b[38;5;241m.\u001b[39mProbe(\u001b[38;5;124m'\u001b[39m\u001b[38;5;124mS_SiF2_8_cyclic\u001b[39m\u001b[38;5;124m'\u001b[39m)\n",
      "File \u001b[0;32m~/Desktop/SMART-molecular-descriptors/__SMART__/examples/SMART_probe_utils.py:72\u001b[0m, in \u001b[0;36mReadFile.__init__\u001b[0;34m(self, ext, fname, path)\u001b[0m\n\u001b[1;32m     70\u001b[0m     \u001b[38;5;28mself\u001b[39m\u001b[38;5;241m.\u001b[39mNATOMS \u001b[38;5;241m=\u001b[39m \u001b[38;5;28mself\u001b[39m\u001b[38;5;241m.\u001b[39mMOL\u001b[38;5;241m.\u001b[39mGetNumAtoms()\n\u001b[1;32m     71\u001b[0m \u001b[38;5;28;01mexcept\u001b[39;00m \u001b[38;5;167;01mException\u001b[39;00m \u001b[38;5;28;01mas\u001b[39;00m e:\n\u001b[0;32m---> 72\u001b[0m     \u001b[38;5;28mprint\u001b[39m(\u001b[38;5;124m'\u001b[39m\u001b[38;5;124mno structure file found -\u001b[39m\u001b[38;5;124m'\u001b[39m, \u001b[43mfile\u001b[49m)\n\u001b[1;32m     73\u001b[0m     \u001b[38;5;28mprint\u001b[39m(e)\n\u001b[1;32m     74\u001b[0m     sys\u001b[38;5;241m.\u001b[39mexit()\n",
      "\u001b[0;31mUnboundLocalError\u001b[0m: local variable 'file' referenced before assignment"
     ]
    }
   ],
   "source": [
    "structure = SMART.ReadFile('mol2', 'R-TCPTTL_1')\n",
    "structure.Reference_Vector(tip=0, tail=1)\n",
    "probe = SMART.Probe('S_SiF2_8_cyclic')"
   ]
  },
  {
   "cell_type": "code",
   "execution_count": null,
   "id": "813c1343-a0cb-467e-abb0-4b61e71e553f",
   "metadata": {},
   "outputs": [],
   "source": [
    "docked = SMART.addProbe(structure, probe, dist=2.0)\n",
    "draw_mol(docked)"
   ]
  },
  {
   "cell_type": "code",
   "execution_count": null,
   "id": "7d6375f9-e6fb-41af-b257-1bb51cff8d2b",
   "metadata": {
    "scrolled": true
   },
   "outputs": [],
   "source": [
    "TEMPLATE_PATH=os.path.join(os.getcwd(),'templates')\n",
    "probes, mol, cplx = None, None, None\n",
    "try:\n",
    "    # Run conformer search\n",
    "    SMART_conf.TEMPLATE.get_template('S_SiF2_8_cyclic_MM.sdf')\n",
    "    print(SMART_conf.TEMPLATE.NCONFS)\n",
    "    probes, mol, cplx = SMART_conf.TEMPLATE_SEARCH(docked)\n",
    "except RecursionError:\n",
    "    print('simulation failed for', file.split('.')[0],probefile.split('.')[0])\n",
    "    #sys.exit()\n",
    "\n",
    "draw_mol(cplx)"
   ]
  },
  {
   "cell_type": "code",
   "execution_count": null,
   "id": "6e539662-7242-413a-97dd-0251d44d1094",
   "metadata": {},
   "outputs": [],
   "source": [
    "probes, mol, cplx = None, None, None\n",
    "try:\n",
    "    # Run conformer search\n",
    "    probes, mol, cplx = SMART_conf.CUSTOM_TEMPLATE_SEARCH(docked)\n",
    "except RecursionError:\n",
    "    print('simulation failed for', file.split('.')[0],probefile.split('.')[0])\n",
    "    #sys.exit()\n",
    "\n",
    "draw_mol(cplx)"
   ]
  },
  {
   "cell_type": "code",
   "execution_count": null,
   "id": "4b136579-8c21-48b7-9a18-3813426d34bd",
   "metadata": {},
   "outputs": [],
   "source": []
  }
 ],
 "metadata": {
  "kernelspec": {
   "display_name": "Python 3 (ipykernel)",
   "language": "python",
   "name": "python3"
  },
  "language_info": {
   "codemirror_mode": {
    "name": "ipython",
    "version": 3
   },
   "file_extension": ".py",
   "mimetype": "text/x-python",
   "name": "python",
   "nbconvert_exporter": "python",
   "pygments_lexer": "ipython3",
   "version": "3.10.12"
  }
 },
 "nbformat": 4,
 "nbformat_minor": 5
}
